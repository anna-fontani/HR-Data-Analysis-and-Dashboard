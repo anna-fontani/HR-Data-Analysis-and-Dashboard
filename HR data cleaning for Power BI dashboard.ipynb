{
 "cells": [
  {
   "cell_type": "code",
   "execution_count": 1,
   "id": "4e68b7b7",
   "metadata": {},
   "outputs": [],
   "source": [
    "import numpy as np\n",
    "import pandas as pd\n",
    "import plotly.express as px\n",
    "from sklearn.experimental import enable_iterative_imputer\n",
    "from sklearn.linear_model import BayesianRidge\n",
    "from sklearn.impute import IterativeImputer\n",
    "from sklearn.preprocessing import StandardScaler\n",
    "import matplotlib.pyplot as plt\n",
    "import seaborn as sns"
   ]
  },
  {
   "cell_type": "code",
   "execution_count": 2,
   "id": "a3053189",
   "metadata": {},
   "outputs": [
    {
     "data": {
      "text/html": [
       "<div>\n",
       "<style scoped>\n",
       "    .dataframe tbody tr th:only-of-type {\n",
       "        vertical-align: middle;\n",
       "    }\n",
       "\n",
       "    .dataframe tbody tr th {\n",
       "        vertical-align: top;\n",
       "    }\n",
       "\n",
       "    .dataframe thead th {\n",
       "        text-align: right;\n",
       "    }\n",
       "</style>\n",
       "<table border=\"1\" class=\"dataframe\">\n",
       "  <thead>\n",
       "    <tr style=\"text-align: right;\">\n",
       "      <th></th>\n",
       "      <th>First Name</th>\n",
       "      <th>Gender</th>\n",
       "      <th>Salary</th>\n",
       "      <th>Bonus %</th>\n",
       "      <th>Senior Management</th>\n",
       "      <th>Team</th>\n",
       "    </tr>\n",
       "  </thead>\n",
       "  <tbody>\n",
       "    <tr>\n",
       "      <th>0</th>\n",
       "      <td>Douglas</td>\n",
       "      <td>Male</td>\n",
       "      <td>97308</td>\n",
       "      <td>6.945</td>\n",
       "      <td>TRUE</td>\n",
       "      <td>Marketing</td>\n",
       "    </tr>\n",
       "    <tr>\n",
       "      <th>1</th>\n",
       "      <td>Thomas</td>\n",
       "      <td>Male</td>\n",
       "      <td>61933</td>\n",
       "      <td>NaN</td>\n",
       "      <td>TRUE</td>\n",
       "      <td>NaN</td>\n",
       "    </tr>\n",
       "    <tr>\n",
       "      <th>2</th>\n",
       "      <td>Maria</td>\n",
       "      <td>Female</td>\n",
       "      <td>130590</td>\n",
       "      <td>11.858</td>\n",
       "      <td>FALSE</td>\n",
       "      <td>Finance</td>\n",
       "    </tr>\n",
       "    <tr>\n",
       "      <th>3</th>\n",
       "      <td>Jerry</td>\n",
       "      <td>Male</td>\n",
       "      <td>NaN</td>\n",
       "      <td>9.34</td>\n",
       "      <td>TRUE</td>\n",
       "      <td>Finance</td>\n",
       "    </tr>\n",
       "    <tr>\n",
       "      <th>4</th>\n",
       "      <td>Larry</td>\n",
       "      <td>Male</td>\n",
       "      <td>101004</td>\n",
       "      <td>1.389</td>\n",
       "      <td>TRUE</td>\n",
       "      <td>Client Services</td>\n",
       "    </tr>\n",
       "    <tr>\n",
       "      <th>5</th>\n",
       "      <td>Dennis</td>\n",
       "      <td>n.a.</td>\n",
       "      <td>115163</td>\n",
       "      <td>10.125</td>\n",
       "      <td>FALSE</td>\n",
       "      <td>Legal</td>\n",
       "    </tr>\n",
       "    <tr>\n",
       "      <th>6</th>\n",
       "      <td>Ruby</td>\n",
       "      <td>Female</td>\n",
       "      <td>65476</td>\n",
       "      <td>10.012</td>\n",
       "      <td>TRUE</td>\n",
       "      <td>Product</td>\n",
       "    </tr>\n",
       "    <tr>\n",
       "      <th>7</th>\n",
       "      <td>NaN</td>\n",
       "      <td>Female</td>\n",
       "      <td>45906</td>\n",
       "      <td>11.598</td>\n",
       "      <td>NaN</td>\n",
       "      <td>Finance</td>\n",
       "    </tr>\n",
       "    <tr>\n",
       "      <th>8</th>\n",
       "      <td>Angela</td>\n",
       "      <td>NaN</td>\n",
       "      <td>NaN</td>\n",
       "      <td>18.523</td>\n",
       "      <td>TRUE</td>\n",
       "      <td>Engineering</td>\n",
       "    </tr>\n",
       "    <tr>\n",
       "      <th>9</th>\n",
       "      <td>Frances</td>\n",
       "      <td>Female</td>\n",
       "      <td>139852</td>\n",
       "      <td>7.524</td>\n",
       "      <td>TRUE</td>\n",
       "      <td>Business Development</td>\n",
       "    </tr>\n",
       "    <tr>\n",
       "      <th>10</th>\n",
       "      <td>Louise</td>\n",
       "      <td>Female</td>\n",
       "      <td>63241</td>\n",
       "      <td>15.132</td>\n",
       "      <td>TRUE</td>\n",
       "      <td>NaN</td>\n",
       "    </tr>\n",
       "    <tr>\n",
       "      <th>11</th>\n",
       "      <td>Julie</td>\n",
       "      <td>Female</td>\n",
       "      <td>102508</td>\n",
       "      <td>12.637</td>\n",
       "      <td>TRUE</td>\n",
       "      <td>Legal</td>\n",
       "    </tr>\n",
       "    <tr>\n",
       "      <th>12</th>\n",
       "      <td>Brandon</td>\n",
       "      <td>Male</td>\n",
       "      <td>112807</td>\n",
       "      <td>17.492</td>\n",
       "      <td>TRUE</td>\n",
       "      <td>Human Resources</td>\n",
       "    </tr>\n",
       "    <tr>\n",
       "      <th>13</th>\n",
       "      <td>Gary</td>\n",
       "      <td>Male</td>\n",
       "      <td>109831</td>\n",
       "      <td>5.831</td>\n",
       "      <td>FALSE</td>\n",
       "      <td>Sales</td>\n",
       "    </tr>\n",
       "    <tr>\n",
       "      <th>14</th>\n",
       "      <td>Kimberly</td>\n",
       "      <td>Female</td>\n",
       "      <td>41426</td>\n",
       "      <td>NaN</td>\n",
       "      <td>TRUE</td>\n",
       "      <td>Finance</td>\n",
       "    </tr>\n",
       "    <tr>\n",
       "      <th>15</th>\n",
       "      <td>Lillian</td>\n",
       "      <td>NaN</td>\n",
       "      <td>59414</td>\n",
       "      <td>1.256</td>\n",
       "      <td>FALSE</td>\n",
       "      <td>Product</td>\n",
       "    </tr>\n",
       "    <tr>\n",
       "      <th>16</th>\n",
       "      <td>Jeremy</td>\n",
       "      <td>Male</td>\n",
       "      <td>90370</td>\n",
       "      <td>7.369</td>\n",
       "      <td>FALSE</td>\n",
       "      <td>Human Resources</td>\n",
       "    </tr>\n",
       "    <tr>\n",
       "      <th>17</th>\n",
       "      <td>Shawn</td>\n",
       "      <td>Male</td>\n",
       "      <td>111737</td>\n",
       "      <td>6.414</td>\n",
       "      <td>FALSE</td>\n",
       "      <td>na</td>\n",
       "    </tr>\n",
       "    <tr>\n",
       "      <th>18</th>\n",
       "      <td>Diana</td>\n",
       "      <td>Female</td>\n",
       "      <td>132940</td>\n",
       "      <td>19.082</td>\n",
       "      <td>FALSE</td>\n",
       "      <td>Client Services</td>\n",
       "    </tr>\n",
       "    <tr>\n",
       "      <th>19</th>\n",
       "      <td>Donna</td>\n",
       "      <td>Female</td>\n",
       "      <td>81014</td>\n",
       "      <td>1.894</td>\n",
       "      <td>FALSE</td>\n",
       "      <td>Product</td>\n",
       "    </tr>\n",
       "  </tbody>\n",
       "</table>\n",
       "</div>"
      ],
      "text/plain": [
       "   First Name  Gender  Salary Bonus % Senior Management                  Team\n",
       "0     Douglas    Male   97308   6.945              TRUE             Marketing\n",
       "1      Thomas    Male   61933     NaN              TRUE                   NaN\n",
       "2       Maria  Female  130590  11.858             FALSE               Finance\n",
       "3       Jerry    Male     NaN    9.34              TRUE               Finance\n",
       "4       Larry    Male  101004   1.389              TRUE       Client Services\n",
       "5      Dennis    n.a.  115163  10.125             FALSE                 Legal\n",
       "6        Ruby  Female   65476  10.012              TRUE               Product\n",
       "7         NaN  Female   45906  11.598               NaN               Finance\n",
       "8      Angela     NaN     NaN  18.523              TRUE           Engineering\n",
       "9     Frances  Female  139852   7.524              TRUE  Business Development\n",
       "10     Louise  Female   63241  15.132              TRUE                   NaN\n",
       "11      Julie  Female  102508  12.637              TRUE                 Legal\n",
       "12    Brandon    Male  112807  17.492              TRUE       Human Resources\n",
       "13       Gary    Male  109831   5.831             FALSE                 Sales\n",
       "14   Kimberly  Female   41426     NaN              TRUE               Finance\n",
       "15    Lillian     NaN   59414   1.256             FALSE               Product\n",
       "16     Jeremy    Male   90370   7.369             FALSE       Human Resources\n",
       "17      Shawn    Male  111737   6.414             FALSE                    na\n",
       "18      Diana  Female  132940  19.082             FALSE       Client Services\n",
       "19      Donna  Female   81014   1.894             FALSE               Product"
      ]
     },
     "execution_count": 2,
     "metadata": {},
     "output_type": "execute_result"
    }
   ],
   "source": [
    "# Loading open source dataset with employees information\n",
    "\n",
    "employees = pd.read_csv('employees.csv')\n",
    "employees.head(20)"
   ]
  },
  {
   "cell_type": "code",
   "execution_count": 3,
   "id": "364e5499",
   "metadata": {},
   "outputs": [
    {
     "data": {
      "text/plain": [
       "First Name           object\n",
       "Gender               object\n",
       "Salary               object\n",
       "Bonus %              object\n",
       "Senior Management    object\n",
       "Team                 object\n",
       "dtype: object"
      ]
     },
     "execution_count": 3,
     "metadata": {},
     "output_type": "execute_result"
    }
   ],
   "source": [
    "# Checking types of columns\n",
    "\n",
    "employees.dtypes"
   ]
  },
  {
   "cell_type": "code",
   "execution_count": 4,
   "id": "3d89dc33",
   "metadata": {},
   "outputs": [
    {
     "data": {
      "text/html": [
       "<div>\n",
       "<style scoped>\n",
       "    .dataframe tbody tr th:only-of-type {\n",
       "        vertical-align: middle;\n",
       "    }\n",
       "\n",
       "    .dataframe tbody tr th {\n",
       "        vertical-align: top;\n",
       "    }\n",
       "\n",
       "    .dataframe thead th {\n",
       "        text-align: right;\n",
       "    }\n",
       "</style>\n",
       "<table border=\"1\" class=\"dataframe\">\n",
       "  <thead>\n",
       "    <tr style=\"text-align: right;\">\n",
       "      <th></th>\n",
       "      <th>First Name</th>\n",
       "      <th>Gender</th>\n",
       "      <th>Salary</th>\n",
       "      <th>Bonus %</th>\n",
       "      <th>Senior Management</th>\n",
       "      <th>Team</th>\n",
       "    </tr>\n",
       "  </thead>\n",
       "  <tbody>\n",
       "    <tr>\n",
       "      <th>count</th>\n",
       "      <td>931</td>\n",
       "      <td>852</td>\n",
       "      <td>998</td>\n",
       "      <td>997</td>\n",
       "      <td>932</td>\n",
       "      <td>957</td>\n",
       "    </tr>\n",
       "    <tr>\n",
       "      <th>unique</th>\n",
       "      <td>201</td>\n",
       "      <td>3</td>\n",
       "      <td>993</td>\n",
       "      <td>968</td>\n",
       "      <td>4</td>\n",
       "      <td>13</td>\n",
       "    </tr>\n",
       "    <tr>\n",
       "      <th>top</th>\n",
       "      <td>Marilyn</td>\n",
       "      <td>Female</td>\n",
       "      <td>91462</td>\n",
       "      <td>8.999</td>\n",
       "      <td>TRUE</td>\n",
       "      <td>Client Services</td>\n",
       "    </tr>\n",
       "    <tr>\n",
       "      <th>freq</th>\n",
       "      <td>11</td>\n",
       "      <td>428</td>\n",
       "      <td>2</td>\n",
       "      <td>3</td>\n",
       "      <td>467</td>\n",
       "      <td>105</td>\n",
       "    </tr>\n",
       "  </tbody>\n",
       "</table>\n",
       "</div>"
      ],
      "text/plain": [
       "       First Name  Gender Salary Bonus % Senior Management             Team\n",
       "count         931     852    998     997               932              957\n",
       "unique        201       3    993     968                 4               13\n",
       "top       Marilyn  Female  91462   8.999              TRUE  Client Services\n",
       "freq           11     428      2       3               467              105"
      ]
     },
     "execution_count": 4,
     "metadata": {},
     "output_type": "execute_result"
    }
   ],
   "source": [
    "# Basic stats\n",
    "\n",
    "employees.describe()"
   ]
  },
  {
   "cell_type": "code",
   "execution_count": 5,
   "id": "3812b26b",
   "metadata": {},
   "outputs": [
    {
     "name": "stdout",
     "output_type": "stream",
     "text": [
      "Salary\n"
     ]
    },
    {
     "data": {
      "text/plain": [
       "0     97308\n",
       "1     61933\n",
       "2    130590\n",
       "3       NaN\n",
       "4    101004\n",
       "5    115163\n",
       "6     65476\n",
       "7     45906\n",
       "8       NaN\n",
       "9    139852\n",
       "Name: Salary, dtype: object"
      ]
     },
     "execution_count": 5,
     "metadata": {},
     "output_type": "execute_result"
    }
   ],
   "source": [
    "# Checking Salary column\n",
    "\n",
    "print('Salary')\n",
    "employees['Salary'].head(10)"
   ]
  },
  {
   "cell_type": "code",
   "execution_count": 6,
   "id": "5d05811a",
   "metadata": {},
   "outputs": [
    {
     "data": {
      "text/plain": [
       "0      Male\n",
       "1      Male\n",
       "2    Female\n",
       "3      Male\n",
       "4      Male\n",
       "5      n.a.\n",
       "6    Female\n",
       "7    Female\n",
       "8       NaN\n",
       "9    Female\n",
       "Name: Gender, dtype: object"
      ]
     },
     "execution_count": 6,
     "metadata": {},
     "output_type": "execute_result"
    }
   ],
   "source": [
    "# Checking Gender column. We can see non-standard input values\n",
    "\n",
    "employees['Gender'].head(10)"
   ]
  },
  {
   "cell_type": "code",
   "execution_count": 7,
   "id": "456eb917",
   "metadata": {},
   "outputs": [
    {
     "data": {
      "text/plain": [
       "First Name            69\n",
       "Gender               148\n",
       "Salary                 2\n",
       "Bonus %                3\n",
       "Senior Management     68\n",
       "Team                  43\n",
       "dtype: int64"
      ]
     },
     "execution_count": 7,
     "metadata": {},
     "output_type": "execute_result"
    }
   ],
   "source": [
    "# Checking the number of null values \n",
    "\n",
    "employees.isnull().sum()"
   ]
  },
  {
   "cell_type": "markdown",
   "id": "6a1ab224",
   "metadata": {},
   "source": [
    "We noticed that 'n.a.' text isn't converted to NaN. We will pass these formats in the .read_csv() method for Pandas to recognize them as missing values."
   ]
  },
  {
   "cell_type": "code",
   "execution_count": 8,
   "id": "e6cae97d",
   "metadata": {},
   "outputs": [
    {
     "name": "stdout",
     "output_type": "stream",
     "text": [
      "0      Male\n",
      "1      Male\n",
      "2    Female\n",
      "3      Male\n",
      "4      Male\n",
      "5       NaN\n",
      "6    Female\n",
      "7    Female\n",
      "8       NaN\n",
      "9    Female\n",
      "Name: Gender, dtype: object\n"
     ]
    }
   ],
   "source": [
    "# Creating a list of corrupt values\n",
    "\n",
    "missing_values = [\"n.a.\",\"NA\",\"n/a\", \"na\", \"--\", \"?\"]\n",
    "employees_with_na = pd.read_csv(\"employees.csv\", na_values = missing_values)\n",
    "\n",
    "# Printing gender again\n",
    "\n",
    "print(employees_with_na['Gender'].head(10))"
   ]
  },
  {
   "cell_type": "code",
   "execution_count": 9,
   "id": "6ce6032c",
   "metadata": {},
   "outputs": [
    {
     "data": {
      "text/plain": [
       "First Name            70\n",
       "Gender               149\n",
       "Salary                 5\n",
       "Bonus %                4\n",
       "Senior Management     71\n",
       "Team                  48\n",
       "dtype: int64"
      ]
     },
     "execution_count": 9,
     "metadata": {},
     "output_type": "execute_result"
    }
   ],
   "source": [
    "# Checking the number of null values again\n",
    "\n",
    "employees_with_na.isnull().sum()"
   ]
  },
  {
   "cell_type": "markdown",
   "id": "606abc0f",
   "metadata": {},
   "source": [
    "We can see that using the list of corrupt values we managed to catch data that needs attention and bring it to one standard. "
   ]
  },
  {
   "cell_type": "code",
   "execution_count": 10,
   "id": "7bc2d241",
   "metadata": {},
   "outputs": [],
   "source": [
    "# Changing column names to adhere to naming conventions\n",
    "\n",
    "employees_with_na.rename(columns={\"First Name\" : \"first_name\", \"Gender\" : \"gender\", \"Salary\" : \"salary\", \"Bonus %\" : \"bonus\", \"Senior Management\" : \"senior_management\", \"Team\" : \"team\"}, inplace=True)\n"
   ]
  },
  {
   "cell_type": "markdown",
   "id": "5ed25e03",
   "metadata": {},
   "source": [
    "### Data types correction\n",
    "\n",
    "We can notice that columns have object type whereas Bonus % and Salary have to be numeric. "
   ]
  },
  {
   "cell_type": "code",
   "execution_count": 11,
   "id": "af77b3d4",
   "metadata": {},
   "outputs": [],
   "source": [
    "# Creating a function to change data type to numeric\n",
    "\n",
    "def make_int(i):\n",
    "    try:\n",
    "        return int(i)\n",
    "    except:\n",
    "        return np.nan\n",
    "\n",
    "# Applying make_int function to the entire series using map\n",
    "\n",
    "employees_with_na['salary'] = employees_with_na['salary'].map(make_int)\n",
    "employees_with_na['bonus'] = employees_with_na['bonus'].map(make_int)"
   ]
  },
  {
   "cell_type": "code",
   "execution_count": 12,
   "id": "6522f264",
   "metadata": {},
   "outputs": [
    {
     "data": {
      "text/html": [
       "<div>\n",
       "<style scoped>\n",
       "    .dataframe tbody tr th:only-of-type {\n",
       "        vertical-align: middle;\n",
       "    }\n",
       "\n",
       "    .dataframe tbody tr th {\n",
       "        vertical-align: top;\n",
       "    }\n",
       "\n",
       "    .dataframe thead th {\n",
       "        text-align: right;\n",
       "    }\n",
       "</style>\n",
       "<table border=\"1\" class=\"dataframe\">\n",
       "  <thead>\n",
       "    <tr style=\"text-align: right;\">\n",
       "      <th></th>\n",
       "      <th>first_name</th>\n",
       "      <th>gender</th>\n",
       "      <th>salary</th>\n",
       "      <th>bonus</th>\n",
       "      <th>senior_management</th>\n",
       "      <th>team</th>\n",
       "    </tr>\n",
       "  </thead>\n",
       "  <tbody>\n",
       "    <tr>\n",
       "      <th>0</th>\n",
       "      <td>Douglas</td>\n",
       "      <td>Male</td>\n",
       "      <td>97308.0</td>\n",
       "      <td>6.0</td>\n",
       "      <td>True</td>\n",
       "      <td>Marketing</td>\n",
       "    </tr>\n",
       "    <tr>\n",
       "      <th>1</th>\n",
       "      <td>Thomas</td>\n",
       "      <td>Male</td>\n",
       "      <td>61933.0</td>\n",
       "      <td>NaN</td>\n",
       "      <td>True</td>\n",
       "      <td>NaN</td>\n",
       "    </tr>\n",
       "    <tr>\n",
       "      <th>2</th>\n",
       "      <td>Maria</td>\n",
       "      <td>Female</td>\n",
       "      <td>130590.0</td>\n",
       "      <td>11.0</td>\n",
       "      <td>False</td>\n",
       "      <td>Finance</td>\n",
       "    </tr>\n",
       "    <tr>\n",
       "      <th>3</th>\n",
       "      <td>Jerry</td>\n",
       "      <td>Male</td>\n",
       "      <td>NaN</td>\n",
       "      <td>9.0</td>\n",
       "      <td>True</td>\n",
       "      <td>Finance</td>\n",
       "    </tr>\n",
       "    <tr>\n",
       "      <th>4</th>\n",
       "      <td>Larry</td>\n",
       "      <td>Male</td>\n",
       "      <td>101004.0</td>\n",
       "      <td>1.0</td>\n",
       "      <td>True</td>\n",
       "      <td>Client Services</td>\n",
       "    </tr>\n",
       "  </tbody>\n",
       "</table>\n",
       "</div>"
      ],
      "text/plain": [
       "  first_name  gender    salary  bonus senior_management             team\n",
       "0    Douglas    Male   97308.0    6.0              True        Marketing\n",
       "1     Thomas    Male   61933.0    NaN              True              NaN\n",
       "2      Maria  Female  130590.0   11.0             False          Finance\n",
       "3      Jerry    Male       NaN    9.0              True          Finance\n",
       "4      Larry    Male  101004.0    1.0              True  Client Services"
      ]
     },
     "execution_count": 12,
     "metadata": {},
     "output_type": "execute_result"
    }
   ],
   "source": [
    "# Checking results\n",
    "\n",
    "employees_with_na.head()"
   ]
  },
  {
   "cell_type": "code",
   "execution_count": 13,
   "id": "bf1b4641",
   "metadata": {},
   "outputs": [
    {
     "data": {
      "text/plain": [
       "first_name            object\n",
       "gender                object\n",
       "salary               float64\n",
       "bonus                float64\n",
       "senior_management     object\n",
       "team                  object\n",
       "dtype: object"
      ]
     },
     "execution_count": 13,
     "metadata": {},
     "output_type": "execute_result"
    }
   ],
   "source": [
    "# Checking resulting data types\n",
    "\n",
    "employees_with_na.dtypes"
   ]
  },
  {
   "cell_type": "markdown",
   "id": "74aecee2",
   "metadata": {},
   "source": [
    "## Addressing missing values\n",
    "\n",
    "For the purpose of further visualization we will address missing values depending on data type. "
   ]
  },
  {
   "cell_type": "code",
   "execution_count": 14,
   "id": "8dbc442d",
   "metadata": {},
   "outputs": [],
   "source": [
    "# Replacing NaNs using Median/Mean of the column\n",
    "\n",
    "employees_with_na['salary'].fillna(employees_with_na['salary'].median(), inplace=True)\n",
    "employees_with_na['bonus'].fillna(employees_with_na['bonus'].median(), inplace=True)"
   ]
  },
  {
   "cell_type": "code",
   "execution_count": 15,
   "id": "a62d5642",
   "metadata": {},
   "outputs": [],
   "source": [
    "employees_with_na['gender'].fillna('No Gender', inplace=True)"
   ]
  },
  {
   "cell_type": "code",
   "execution_count": 16,
   "id": "fe0726a4",
   "metadata": {},
   "outputs": [
    {
     "data": {
      "text/html": [
       "<div>\n",
       "<style scoped>\n",
       "    .dataframe tbody tr th:only-of-type {\n",
       "        vertical-align: middle;\n",
       "    }\n",
       "\n",
       "    .dataframe tbody tr th {\n",
       "        vertical-align: top;\n",
       "    }\n",
       "\n",
       "    .dataframe thead th {\n",
       "        text-align: right;\n",
       "    }\n",
       "</style>\n",
       "<table border=\"1\" class=\"dataframe\">\n",
       "  <thead>\n",
       "    <tr style=\"text-align: right;\">\n",
       "      <th></th>\n",
       "      <th>first_name</th>\n",
       "      <th>gender</th>\n",
       "      <th>salary</th>\n",
       "      <th>bonus</th>\n",
       "      <th>senior_management</th>\n",
       "      <th>team</th>\n",
       "    </tr>\n",
       "  </thead>\n",
       "  <tbody>\n",
       "    <tr>\n",
       "      <th>0</th>\n",
       "      <td>Douglas</td>\n",
       "      <td>Male</td>\n",
       "      <td>97308.0</td>\n",
       "      <td>6.0</td>\n",
       "      <td>True</td>\n",
       "      <td>Marketing</td>\n",
       "    </tr>\n",
       "    <tr>\n",
       "      <th>1</th>\n",
       "      <td>Thomas</td>\n",
       "      <td>Male</td>\n",
       "      <td>61933.0</td>\n",
       "      <td>9.0</td>\n",
       "      <td>True</td>\n",
       "      <td>NaN</td>\n",
       "    </tr>\n",
       "    <tr>\n",
       "      <th>2</th>\n",
       "      <td>Maria</td>\n",
       "      <td>Female</td>\n",
       "      <td>130590.0</td>\n",
       "      <td>11.0</td>\n",
       "      <td>False</td>\n",
       "      <td>Finance</td>\n",
       "    </tr>\n",
       "    <tr>\n",
       "      <th>3</th>\n",
       "      <td>Jerry</td>\n",
       "      <td>Male</td>\n",
       "      <td>90370.0</td>\n",
       "      <td>9.0</td>\n",
       "      <td>True</td>\n",
       "      <td>Finance</td>\n",
       "    </tr>\n",
       "    <tr>\n",
       "      <th>4</th>\n",
       "      <td>Larry</td>\n",
       "      <td>Male</td>\n",
       "      <td>101004.0</td>\n",
       "      <td>1.0</td>\n",
       "      <td>True</td>\n",
       "      <td>Client Services</td>\n",
       "    </tr>\n",
       "    <tr>\n",
       "      <th>5</th>\n",
       "      <td>Dennis</td>\n",
       "      <td>No Gender</td>\n",
       "      <td>115163.0</td>\n",
       "      <td>10.0</td>\n",
       "      <td>False</td>\n",
       "      <td>Legal</td>\n",
       "    </tr>\n",
       "    <tr>\n",
       "      <th>6</th>\n",
       "      <td>Ruby</td>\n",
       "      <td>Female</td>\n",
       "      <td>65476.0</td>\n",
       "      <td>10.0</td>\n",
       "      <td>True</td>\n",
       "      <td>Product</td>\n",
       "    </tr>\n",
       "    <tr>\n",
       "      <th>7</th>\n",
       "      <td>NaN</td>\n",
       "      <td>Female</td>\n",
       "      <td>45906.0</td>\n",
       "      <td>11.0</td>\n",
       "      <td>NaN</td>\n",
       "      <td>Finance</td>\n",
       "    </tr>\n",
       "    <tr>\n",
       "      <th>8</th>\n",
       "      <td>Angela</td>\n",
       "      <td>No Gender</td>\n",
       "      <td>90370.0</td>\n",
       "      <td>18.0</td>\n",
       "      <td>True</td>\n",
       "      <td>Engineering</td>\n",
       "    </tr>\n",
       "    <tr>\n",
       "      <th>9</th>\n",
       "      <td>Frances</td>\n",
       "      <td>Female</td>\n",
       "      <td>139852.0</td>\n",
       "      <td>7.0</td>\n",
       "      <td>True</td>\n",
       "      <td>Business Development</td>\n",
       "    </tr>\n",
       "    <tr>\n",
       "      <th>10</th>\n",
       "      <td>Louise</td>\n",
       "      <td>Female</td>\n",
       "      <td>63241.0</td>\n",
       "      <td>15.0</td>\n",
       "      <td>True</td>\n",
       "      <td>NaN</td>\n",
       "    </tr>\n",
       "    <tr>\n",
       "      <th>11</th>\n",
       "      <td>Julie</td>\n",
       "      <td>Female</td>\n",
       "      <td>102508.0</td>\n",
       "      <td>12.0</td>\n",
       "      <td>True</td>\n",
       "      <td>Legal</td>\n",
       "    </tr>\n",
       "    <tr>\n",
       "      <th>12</th>\n",
       "      <td>Brandon</td>\n",
       "      <td>Male</td>\n",
       "      <td>112807.0</td>\n",
       "      <td>17.0</td>\n",
       "      <td>True</td>\n",
       "      <td>Human Resources</td>\n",
       "    </tr>\n",
       "    <tr>\n",
       "      <th>13</th>\n",
       "      <td>Gary</td>\n",
       "      <td>Male</td>\n",
       "      <td>109831.0</td>\n",
       "      <td>5.0</td>\n",
       "      <td>False</td>\n",
       "      <td>Sales</td>\n",
       "    </tr>\n",
       "    <tr>\n",
       "      <th>14</th>\n",
       "      <td>Kimberly</td>\n",
       "      <td>Female</td>\n",
       "      <td>41426.0</td>\n",
       "      <td>9.0</td>\n",
       "      <td>True</td>\n",
       "      <td>Finance</td>\n",
       "    </tr>\n",
       "  </tbody>\n",
       "</table>\n",
       "</div>"
      ],
      "text/plain": [
       "   first_name     gender    salary  bonus senior_management  \\\n",
       "0     Douglas       Male   97308.0    6.0              True   \n",
       "1      Thomas       Male   61933.0    9.0              True   \n",
       "2       Maria     Female  130590.0   11.0             False   \n",
       "3       Jerry       Male   90370.0    9.0              True   \n",
       "4       Larry       Male  101004.0    1.0              True   \n",
       "5      Dennis  No Gender  115163.0   10.0             False   \n",
       "6        Ruby     Female   65476.0   10.0              True   \n",
       "7         NaN     Female   45906.0   11.0               NaN   \n",
       "8      Angela  No Gender   90370.0   18.0              True   \n",
       "9     Frances     Female  139852.0    7.0              True   \n",
       "10     Louise     Female   63241.0   15.0              True   \n",
       "11      Julie     Female  102508.0   12.0              True   \n",
       "12    Brandon       Male  112807.0   17.0              True   \n",
       "13       Gary       Male  109831.0    5.0             False   \n",
       "14   Kimberly     Female   41426.0    9.0              True   \n",
       "\n",
       "                    team  \n",
       "0              Marketing  \n",
       "1                    NaN  \n",
       "2                Finance  \n",
       "3                Finance  \n",
       "4        Client Services  \n",
       "5                  Legal  \n",
       "6                Product  \n",
       "7                Finance  \n",
       "8            Engineering  \n",
       "9   Business Development  \n",
       "10                   NaN  \n",
       "11                 Legal  \n",
       "12       Human Resources  \n",
       "13                 Sales  \n",
       "14               Finance  "
      ]
     },
     "execution_count": 16,
     "metadata": {},
     "output_type": "execute_result"
    }
   ],
   "source": [
    "employees_with_na.head(15)"
   ]
  },
  {
   "cell_type": "code",
   "execution_count": 17,
   "id": "ffd47b90",
   "metadata": {},
   "outputs": [
    {
     "data": {
      "text/plain": [
       "first_name           70\n",
       "gender                0\n",
       "salary                0\n",
       "bonus                 0\n",
       "senior_management    71\n",
       "team                 48\n",
       "dtype: int64"
      ]
     },
     "execution_count": 17,
     "metadata": {},
     "output_type": "execute_result"
    }
   ],
   "source": [
    "# Checking the number of null values again\n",
    "\n",
    "employees_with_na.isnull().sum()"
   ]
  },
  {
   "cell_type": "code",
   "execution_count": 18,
   "id": "b4a797c7",
   "metadata": {},
   "outputs": [],
   "source": [
    "# We will drop records with missing values for the purpose of visualization\n",
    "\n",
    "employees_without_na = employees_with_na.dropna(axis=0)"
   ]
  },
  {
   "cell_type": "code",
   "execution_count": 19,
   "id": "eb960396",
   "metadata": {},
   "outputs": [
    {
     "data": {
      "text/plain": [
       "first_name           0\n",
       "gender               0\n",
       "salary               0\n",
       "bonus                0\n",
       "senior_management    0\n",
       "team                 0\n",
       "dtype: int64"
      ]
     },
     "execution_count": 19,
     "metadata": {},
     "output_type": "execute_result"
    }
   ],
   "source": [
    "# Checking the number of null values in a new dataset\n",
    "\n",
    "employees_without_na.isnull().sum()"
   ]
  },
  {
   "cell_type": "code",
   "execution_count": 20,
   "id": "48a3aff6",
   "metadata": {},
   "outputs": [
    {
     "name": "stdout",
     "output_type": "stream",
     "text": [
      "<class 'pandas.core.frame.DataFrame'>\n",
      "Index: 887 entries, 0 to 999\n",
      "Data columns (total 6 columns):\n",
      " #   Column             Non-Null Count  Dtype  \n",
      "---  ------             --------------  -----  \n",
      " 0   first_name         887 non-null    object \n",
      " 1   gender             887 non-null    object \n",
      " 2   salary             887 non-null    float64\n",
      " 3   bonus              887 non-null    float64\n",
      " 4   senior_management  887 non-null    object \n",
      " 5   team               887 non-null    object \n",
      "dtypes: float64(2), object(4)\n",
      "memory usage: 48.5+ KB\n"
     ]
    }
   ],
   "source": [
    "# Number of records and data types\n",
    "\n",
    "employees_without_na.info()"
   ]
  },
  {
   "cell_type": "markdown",
   "id": "be297179",
   "metadata": {},
   "source": [
    "## Saving data for future use"
   ]
  },
  {
   "cell_type": "code",
   "execution_count": 21,
   "id": "dff315e4",
   "metadata": {},
   "outputs": [],
   "source": [
    "# Extracting preprocessed data to\n",
    "\n",
    "employees_without_na.to_csv(\"employees_cleaned.csv\", index=False)"
   ]
  },
  {
   "cell_type": "markdown",
   "id": "3a8902bd",
   "metadata": {},
   "source": [
    "## Dashboard using Power BI\n",
    "\n",
    "Power BI was used to create customizable dashboard based on this data. All charts are interactive and can be filtered to display needed information.  "
   ]
  },
  {
   "cell_type": "markdown",
   "id": "0f0961d4",
   "metadata": {},
   "source": [
    "![alt text](employees_powerbi_dashboard.png \"Power BI Dashboard overview\")"
   ]
  }
 ],
 "metadata": {
  "kernelspec": {
   "display_name": "Python 3 (ipykernel)",
   "language": "python",
   "name": "python3"
  },
  "language_info": {
   "codemirror_mode": {
    "name": "ipython",
    "version": 3
   },
   "file_extension": ".py",
   "mimetype": "text/x-python",
   "name": "python",
   "nbconvert_exporter": "python",
   "pygments_lexer": "ipython3",
   "version": "3.11.5"
  }
 },
 "nbformat": 4,
 "nbformat_minor": 5
}
